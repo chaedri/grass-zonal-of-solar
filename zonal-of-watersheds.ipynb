{
 "cells": [
  {
   "cell_type": "markdown",
   "metadata": {},
   "source": [
    "# Zonal statistics of solar time series in GRASS GIS with Python\n",
    "\n",
    "[<img src=\"https://grass.osgeo.org/uploads/images/logo/grassgis_logo_colorlogo_text_alphabg.png\" alt=\"GRASS GIS\" style=\"width:200px;\"/>](https://grass.osgeo.org/)\n",
    "\n",
    "This is a quick introduction into *GRASS GIS* in a *Jupyter Notebook* using the *Python* scripting language.\n",
    "The interactive notebook is available online thanks to the [*Binder*](https://mybinder.org/) service.\n",
    "\n",
    "Examples here are using a sample GRASS GIS dataset for North Carolina, USA. The dataset is included in this environment.\n",
    "\n",
    "## Usage\n",
    "\n",
    "To run the selected part which is called a cell, hit `Shift + Enter`.\n",
    "\n",
    "## Start\n",
    "\n",
    "There is several ways how GRASS GIS can be used. When using Python in notebook, we usually find GRASS GIS Python packages, import them, initialize GRASS GIS session, and set several variables useful for using GRASS GIS in a notebook."
   ]
  },
  {
   "cell_type": "code",
   "execution_count": 1,
   "metadata": {},
   "outputs": [],
   "source": [
    "# import Python standard library and IPython packages we need\n",
    "import os\n",
    "import sys\n",
    "import subprocess\n",
    "import numpy as np\n",
    "import matplotlib.pyplot as plt\n",
    "from IPython.display import Image\n",
    "\n",
    "# show matplotlib outputs automatically in the notebook\n",
    "%matplotlib inline\n",
    "\n",
    "# ask GRASS GIS where its Python packages are\n",
    "gisbase = subprocess.check_output([\"grass\", \"--config\", \"path\"]).strip()\n",
    "os.environ['GISBASE'] = gisbase\n",
    "sys.path.append(os.path.join(gisbase, \"etc\", \"python\"))\n",
    "\n",
    "# import GRASS GIS packages we need\n",
    "import grass.script as gs\n",
    "import grass.script.setup as gsetup\n",
    "\n",
    "# create GRASS GIS session\n",
    "rcfile = gsetup.init(gisbase, \"data/grassdata\", \"nc_basic_spm_grass7\", \"user1\")\n",
    "\n",
    "# we want functions to raise exceptions and see standard output of the modules\n",
    "gs.set_raise_on_error(True)\n",
    "gs.set_capture_stderr(True)\n",
    "# simply overwrite existing maps like we overwrite Python variable values\n",
    "os.environ['GRASS_OVERWRITE'] = '1'\n",
    "# enable map rendering to in Jupyter Notebook\n",
    "os.environ['GRASS_FONT'] = 'sans'\n",
    "# set display modules to render into a file (named map.png by default)\n",
    "os.environ['GRASS_RENDER_IMMEDIATE'] = 'cairo'\n",
    "os.environ['GRASS_RENDER_FILE_READ'] = 'TRUE'\n",
    "os.environ['GRASS_LEGEND_FILE'] = 'legend.txt'"
   ]
  },
  {
   "cell_type": "markdown",
   "metadata": {},
   "source": [
    "## Watersheds\n",
    "\n",
    "Set computational region and create..."
   ]
  },
  {
   "cell_type": "code",
   "execution_count": 2,
   "metadata": {},
   "outputs": [
    {
     "data": {
      "image/png": "[encoded data removed]",
      "text/plain": [
       "<IPython.core.display.Image object>"
      ]
     },
     "execution_count": 2,
     "metadata": {},
     "output_type": "execute_result"
    }
   ],
   "source": [
    "gs.parse_command('g.region', raster=\"elevation\", flags='pg')\n",
    "\n",
    "gs.run_command('d.erase')\n",
    "gs.run_command('d.rast', map=\"elevation\")\n",
    "#gs.run_command('d.legend', raster=\"lakes_buff\", range=(2, 5), at=(80, 100, 2, 10))\n",
    "Image(filename=\"map.png\")\n",
    "\n",
    "gs.run_command(\"r.watershed\", elevation=\"elevation\", basin=\"watersheds\", threshold=80000)\n",
    "\n",
    "#gs.run_command(\"r.colors\", map=\"watersheds\", color=\"haxby\")\n",
    "\n",
    "gs.run_command('d.erase')\n",
    "gs.run_command('d.rast', map=\"watersheds\")\n",
    "Image(filename=\"map.png\")"
   ]
  },
  {
   "cell_type": "markdown",
   "metadata": {},
   "source": [
    "## Compute zonal statistics"
   ]
  },
  {
   "cell_type": "code",
   "execution_count": 3,
   "metadata": {},
   "outputs": [
    {
     "name": "stdout",
     "output_type": "stream",
     "text": [
      "['2', '4', '6', '8', '10', '12', '14', '16', '18', '20', '22', '24']\n"
     ]
    },
    {
     "data": {
      "image/png": "[encoded data removed]",
      "text/plain": [
       "<matplotlib.figure.Figure at 0x7f56dc3404d0>"
      ]
     },
     "metadata": {},
     "output_type": "display_data"
    }
   ],
   "source": [
    "import csv\n",
    "\n",
    "# Stream segment categories as a list of strings\n",
    "# We are r.describe asking not to give us nulls if present\n",
    "# because they stand for no stream.\n",
    "categories = gs.read_command(\"r.describe\", flags=\"1n\", map=\"watersheds\").splitlines()\n",
    "print categories\n",
    "\n",
    "# get the statistics\n",
    "sep = \"|\"\n",
    "text = gs.read_command(\"r.univar\", map=\"elevation\", zones=\"watersheds\", separator=sep, flags=\"t\")\n",
    "reader = csv.DictReader(text.splitlines(), delimiter=sep)\n",
    "\n",
    "# restructure the statistics to what suites us\n",
    "univars_for_watersheds = {}\n",
    "for row in reader:\n",
    "    category = row[\"zone\"]\n",
    "    univars_for_watersheds[category] = row\n",
    "\n",
    "means_for_streams = []\n",
    "stddev_for_streams = []\n",
    "for category in categories:\n",
    "    means_for_streams.append(float(univars_for_watersheds[category][\"mean\"]))\n",
    "    stddev_for_streams.append(float(univars_for_watersheds[category][\"stddev\"]))\n",
    "    \n",
    "bar_positions = np.arange(len(categories))\n",
    "    \n",
    "plt.style.use('ggplot')\n",
    "fig, ax = plt.subplots()\n",
    "ax.set_title(\"Mean elevation\", fontsize=16)\n",
    "ax.set_xlabel(\"Watershed\")\n",
    "ax.set_ylabel(\"Elevation [m]\")\n",
    "ax.bar(bar_positions, means_for_streams, yerr=stddev_for_streams)\n",
    "ax.set_xticks(bar_positions + 0.5)\n",
    "ax.set_xticklabels(categories, rotation='0')\n",
    "plt.show()"
   ]
  }
 ],
 "metadata": {
  "kernelspec": {
   "display_name": "Python 2",
   "language": "python",
   "name": "python2"
  },
  "language_info": {
   "codemirror_mode": {
    "name": "ipython",
    "version": 2
   },
   "file_extension": ".py",
   "mimetype": "text/x-python",
   "name": "python",
   "nbconvert_exporter": "python",
   "pygments_lexer": "ipython2",
   "version": "2.7.12"
  }
 },
 "nbformat": 4,
 "nbformat_minor": 1
}
